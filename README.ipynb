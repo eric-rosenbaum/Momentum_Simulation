{
 "cells": [
  {
   "cell_type": "markdown",
   "metadata": {},
   "source": [
    "# Momentum Simulator\n",
    "\n",
    "## Overview\n",
    "This project simulates the momentum of two pool balls during a collision, accounting for friction, restitution, and motion dynamics. The simulation is designed to be interactive and visually demonstrate the mechanics of momentum transfer, allowing for parameter experimentation."
   ]
  },
  {
   "cell_type": "markdown",
   "metadata": {},
   "source": [
    "### Output Example\n",
    "\n",
    "![Example Output](Output_Example.png)"
   ]
  },
  {
   "cell_type": "markdown",
   "metadata": {},
   "source": [
    "## Features\n",
    "- Adjustable initial speed, angle, and other coefficients.\n",
    "- Friction and restitution effects.\n",
    "- Visualization of ball trajectories.\n",
    "- Target location for additional gameplay dynamics.\n",
    "- Real-time animation to observe ball motion dynamically.\n",
    "\n",
    "## Files\n",
    "1. **`momentum_simulation.py`**: The core Python script containing the simulator class and methods.\n",
    "2. **`MomentumSimulator.ipynb`**: An interactive Jupyter Notebook for running simulations and modifying parameters.\n",
    "3. **`README.md`**: This documentation file.\n",
    "\n",
    "## Requirements\n",
    "To run the project, install the following Python libraries:\n",
    "- `matplotlib`\n",
    "- `math`\n",
    "\n",
    "Install dependencies via pip:\n",
    "```bash\n",
    "pip install matplotlib\n",
    "```\n",
    "\n",
    "## Usage\n",
    "\n",
    "### Using `momentum_simulation.py`\n",
    "1. Import the `MomentumSimulator` class:\n",
    "    ```python\n",
    "    from momentum_simulator import MomentumSimulator\n",
    "    ```\n",
    "2. Initialize the simulator with desired parameters:\n",
    "    ```python\n",
    "    simulator = MomentumSimulator(\n",
    "        speed=10, \n",
    "        angle=45, \n",
    "        rest_coeff=0.9, \n",
    "        friction_coeff=0.05, \n",
    "        min_speed_threshold=0.1, \n",
    "        target_location=[10, 2]\n",
    "    )\n",
    "    ```\n",
    "3. Run the simulation and visualize:\n",
    "    ```python\n",
    "    white_positions, black_positions = simulator.simulate()\n",
    "    simulator.plot_simulation(white_positions, black_positions)\n",
    "    ```\n",
    "\n",
    "### Using `MomentumSimulator.ipynb`\n",
    "1. Open the notebook in Jupyter:\n",
    "    ```bash\n",
    "    jupyter notebook MomentumSimulator.ipynb\n",
    "    ```\n",
    "2. Modify parameters and run the cells to see updated simulations.\n",
    "3. View real-time animation directly in the notebook using `matplotlib`.\n",
    "\n",
    "## Example\n",
    "Here is an example setup:\n",
    "```python\n",
    "simulator = MomentumSimulator(\n",
    "    speed=15, \n",
    "    angle=30, \n",
    "    rest_coeff=0.8, \n",
    "    friction_coeff=0.03, \n",
    "    min_speed_threshold=0.1, \n",
    "    target_location=[8, 4]\n",
    ")\n",
    "white_positions, black_positions = simulator.simulate()\n",
    "simulator.plot_simulation(white_positions, black_positions)\n",
    "```\n",
    "\n"
   ]
  },
  {
   "cell_type": "markdown",
   "metadata": {},
   "source": []
  }
 ],
 "metadata": {
  "language_info": {
   "name": "python"
  }
 },
 "nbformat": 4,
 "nbformat_minor": 2
}
